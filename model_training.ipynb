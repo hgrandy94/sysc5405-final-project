{
 "cells": [
  {
   "cell_type": "code",
   "execution_count": 3352,
   "metadata": {},
   "outputs": [],
   "source": [
    "# Import libraries\n",
    "import pandas as pd\n",
    "import numpy as np\n",
    "import matplotlib.pyplot as plt\n",
    "import os\n",
    "import random\n",
    "import scipy.stats as stats\n",
    "\n",
    "# Preprocessing libraries\n",
    "from sklearn.preprocessing import StandardScaler\n",
    "from sklearn.preprocessing import MaxAbsScaler\n",
    "from sklearn.preprocessing import MinMaxScaler\n",
    "from imblearn.over_sampling import ADASYN\n",
    "from imblearn.over_sampling import SMOTE \n",
    "from imblearn.over_sampling import RandomOverSampler\n",
    "from imblearn.under_sampling import RandomUnderSampler\n",
    "from sklearn.pipeline import Pipeline\n",
    "from sklearn.feature_selection import SelectKBest, chi2\n",
    "from sklearn.feature_selection import SelectFromModel\n",
    "\n",
    "# Sklearn ML\n",
    "from sklearn.model_selection import train_test_split\n",
    "from sklearn.model_selection import StratifiedKFold\n",
    "from sklearn.metrics import accuracy_score, f1_score, precision_score, recall_score, get_scorer_names\n",
    "from sklearn.model_selection import cross_validate\n",
    "from sklearn.svm import SVC\n",
    "from sklearn.model_selection import RandomizedSearchCV\n",
    "from sklearn.tree import DecisionTreeClassifier\n",
    "from sklearn.naive_bayes import GaussianNB\n",
    "from sklearn.neighbors import KNeighborsClassifier\n",
    "from sklearn.linear_model import LogisticRegression\n",
    "from sklearn.ensemble import VotingClassifier\n",
    "from sklearn.metrics import confusion_matrix, ConfusionMatrixDisplay\n",
    "from sklearn.model_selection import cross_val_score\n",
    "import pickle as pkl\n",
    "from joblib import dump, load"
   ]
  },
  {
   "cell_type": "code",
   "execution_count": 3353,
   "metadata": {},
   "outputs": [],
   "source": [
    "# Initialize k-fold value\n",
    "k=5\n",
    "# Initialize variable for first test/train split\n",
    "#test_percent = 1/(k+1)\n",
    "test_percent = 0.3\n",
    "#print(test_percent)\n",
    "\n",
    "# Mahalanobis threshold\n",
    "m_thresh = 0.05\n",
    "\n",
    "# Use same random seed to ensure reproducible results across runs\n",
    "#rand_seed = random.randint(0, 10000)\n",
    "rand_seed = 255"
   ]
  },
  {
   "cell_type": "code",
   "execution_count": 3354,
   "metadata": {},
   "outputs": [
    {
     "data": {
      "text/html": [
       "<div>\n",
       "<style scoped>\n",
       "    .dataframe tbody tr th:only-of-type {\n",
       "        vertical-align: middle;\n",
       "    }\n",
       "\n",
       "    .dataframe tbody tr th {\n",
       "        vertical-align: top;\n",
       "    }\n",
       "\n",
       "    .dataframe thead th {\n",
       "        text-align: right;\n",
       "    }\n",
       "</style>\n",
       "<table border=\"1\" class=\"dataframe\">\n",
       "  <thead>\n",
       "    <tr style=\"text-align: right;\">\n",
       "      <th></th>\n",
       "      <th>Unnamed: 0</th>\n",
       "      <th>uid</th>\n",
       "      <th>class</th>\n",
       "      <th>f0</th>\n",
       "      <th>f1</th>\n",
       "      <th>f2</th>\n",
       "      <th>f3</th>\n",
       "      <th>f4</th>\n",
       "      <th>f5</th>\n",
       "      <th>f6</th>\n",
       "      <th>...</th>\n",
       "      <th>f1014</th>\n",
       "      <th>f1015</th>\n",
       "      <th>f1016</th>\n",
       "      <th>f1017</th>\n",
       "      <th>f1018</th>\n",
       "      <th>f1019</th>\n",
       "      <th>f1020</th>\n",
       "      <th>f1021</th>\n",
       "      <th>f1022</th>\n",
       "      <th>f1023</th>\n",
       "    </tr>\n",
       "  </thead>\n",
       "  <tbody>\n",
       "    <tr>\n",
       "      <th>0</th>\n",
       "      <td>0</td>\n",
       "      <td>ZYURRE527</td>\n",
       "      <td>4</td>\n",
       "      <td>0.000462</td>\n",
       "      <td>0.005583</td>\n",
       "      <td>-0.001031</td>\n",
       "      <td>0.002307</td>\n",
       "      <td>-0.113097</td>\n",
       "      <td>-0.284965</td>\n",
       "      <td>0.001069</td>\n",
       "      <td>...</td>\n",
       "      <td>0.680631</td>\n",
       "      <td>-1.153061</td>\n",
       "      <td>0.111816</td>\n",
       "      <td>0.162622</td>\n",
       "      <td>-1.085265</td>\n",
       "      <td>-0.657002</td>\n",
       "      <td>-1.406191</td>\n",
       "      <td>2.240085</td>\n",
       "      <td>0.118616</td>\n",
       "      <td>-0.728013</td>\n",
       "    </tr>\n",
       "    <tr>\n",
       "      <th>1</th>\n",
       "      <td>1</td>\n",
       "      <td>ZWNWBP435</td>\n",
       "      <td>0</td>\n",
       "      <td>0.000220</td>\n",
       "      <td>0.006780</td>\n",
       "      <td>-0.000547</td>\n",
       "      <td>0.002183</td>\n",
       "      <td>-0.045820</td>\n",
       "      <td>-0.216762</td>\n",
       "      <td>0.000987</td>\n",
       "      <td>...</td>\n",
       "      <td>-1.241972</td>\n",
       "      <td>-0.115316</td>\n",
       "      <td>-0.411191</td>\n",
       "      <td>0.431461</td>\n",
       "      <td>0.442649</td>\n",
       "      <td>1.243681</td>\n",
       "      <td>-0.151721</td>\n",
       "      <td>0.458508</td>\n",
       "      <td>1.931918</td>\n",
       "      <td>-0.241081</td>\n",
       "    </tr>\n",
       "    <tr>\n",
       "      <th>2</th>\n",
       "      <td>2</td>\n",
       "      <td>ZVHEZA963</td>\n",
       "      <td>4</td>\n",
       "      <td>0.000405</td>\n",
       "      <td>0.007183</td>\n",
       "      <td>-0.000137</td>\n",
       "      <td>0.002612</td>\n",
       "      <td>-0.083430</td>\n",
       "      <td>-0.292385</td>\n",
       "      <td>0.001094</td>\n",
       "      <td>...</td>\n",
       "      <td>0.659314</td>\n",
       "      <td>-0.792833</td>\n",
       "      <td>-0.471358</td>\n",
       "      <td>0.514799</td>\n",
       "      <td>-0.846220</td>\n",
       "      <td>0.479314</td>\n",
       "      <td>-0.730218</td>\n",
       "      <td>1.352716</td>\n",
       "      <td>0.040223</td>\n",
       "      <td>-0.163302</td>\n",
       "    </tr>\n",
       "    <tr>\n",
       "      <th>3</th>\n",
       "      <td>3</td>\n",
       "      <td>ZSFNU1100</td>\n",
       "      <td>4</td>\n",
       "      <td>0.000388</td>\n",
       "      <td>0.003802</td>\n",
       "      <td>0.002121</td>\n",
       "      <td>0.001513</td>\n",
       "      <td>-0.109248</td>\n",
       "      <td>-0.183284</td>\n",
       "      <td>0.000813</td>\n",
       "      <td>...</td>\n",
       "      <td>-0.047666</td>\n",
       "      <td>-0.201043</td>\n",
       "      <td>-0.565545</td>\n",
       "      <td>0.999009</td>\n",
       "      <td>-0.332314</td>\n",
       "      <td>-0.066972</td>\n",
       "      <td>-1.263785</td>\n",
       "      <td>3.876905</td>\n",
       "      <td>-0.397950</td>\n",
       "      <td>-0.693763</td>\n",
       "    </tr>\n",
       "    <tr>\n",
       "      <th>4</th>\n",
       "      <td>4</td>\n",
       "      <td>ZRXUB1049</td>\n",
       "      <td>0</td>\n",
       "      <td>0.000425</td>\n",
       "      <td>0.006544</td>\n",
       "      <td>0.001630</td>\n",
       "      <td>0.001549</td>\n",
       "      <td>-0.068301</td>\n",
       "      <td>-0.283487</td>\n",
       "      <td>0.001004</td>\n",
       "      <td>...</td>\n",
       "      <td>-1.221178</td>\n",
       "      <td>-0.253239</td>\n",
       "      <td>-0.046740</td>\n",
       "      <td>0.242367</td>\n",
       "      <td>-0.379724</td>\n",
       "      <td>-0.893249</td>\n",
       "      <td>-0.957397</td>\n",
       "      <td>1.118245</td>\n",
       "      <td>0.181925</td>\n",
       "      <td>-0.024197</td>\n",
       "    </tr>\n",
       "    <tr>\n",
       "      <th>...</th>\n",
       "      <td>...</td>\n",
       "      <td>...</td>\n",
       "      <td>...</td>\n",
       "      <td>...</td>\n",
       "      <td>...</td>\n",
       "      <td>...</td>\n",
       "      <td>...</td>\n",
       "      <td>...</td>\n",
       "      <td>...</td>\n",
       "      <td>...</td>\n",
       "      <td>...</td>\n",
       "      <td>...</td>\n",
       "      <td>...</td>\n",
       "      <td>...</td>\n",
       "      <td>...</td>\n",
       "      <td>...</td>\n",
       "      <td>...</td>\n",
       "      <td>...</td>\n",
       "      <td>...</td>\n",
       "      <td>...</td>\n",
       "      <td>...</td>\n",
       "    </tr>\n",
       "    <tr>\n",
       "      <th>422</th>\n",
       "      <td>422</td>\n",
       "      <td>AGHXWX765</td>\n",
       "      <td>0</td>\n",
       "      <td>0.000305</td>\n",
       "      <td>0.003671</td>\n",
       "      <td>-0.004093</td>\n",
       "      <td>0.003010</td>\n",
       "      <td>-0.093583</td>\n",
       "      <td>0.133018</td>\n",
       "      <td>0.000627</td>\n",
       "      <td>...</td>\n",
       "      <td>-0.260746</td>\n",
       "      <td>-0.741712</td>\n",
       "      <td>-0.887129</td>\n",
       "      <td>0.190525</td>\n",
       "      <td>0.216271</td>\n",
       "      <td>0.490549</td>\n",
       "      <td>-1.047399</td>\n",
       "      <td>1.875185</td>\n",
       "      <td>0.345561</td>\n",
       "      <td>-0.874318</td>\n",
       "    </tr>\n",
       "    <tr>\n",
       "      <th>423</th>\n",
       "      <td>423</td>\n",
       "      <td>AFEOPC672</td>\n",
       "      <td>3</td>\n",
       "      <td>0.000441</td>\n",
       "      <td>0.006178</td>\n",
       "      <td>-0.000811</td>\n",
       "      <td>0.003572</td>\n",
       "      <td>-0.108863</td>\n",
       "      <td>-0.302020</td>\n",
       "      <td>0.000761</td>\n",
       "      <td>...</td>\n",
       "      <td>0.457373</td>\n",
       "      <td>-0.782917</td>\n",
       "      <td>-1.072765</td>\n",
       "      <td>1.180279</td>\n",
       "      <td>-0.111142</td>\n",
       "      <td>1.897755</td>\n",
       "      <td>-0.902370</td>\n",
       "      <td>0.552967</td>\n",
       "      <td>-0.314270</td>\n",
       "      <td>-1.198762</td>\n",
       "    </tr>\n",
       "    <tr>\n",
       "      <th>424</th>\n",
       "      <td>424</td>\n",
       "      <td>AEEEIG737</td>\n",
       "      <td>3</td>\n",
       "      <td>0.000464</td>\n",
       "      <td>0.006611</td>\n",
       "      <td>0.000842</td>\n",
       "      <td>0.001412</td>\n",
       "      <td>-0.152744</td>\n",
       "      <td>-0.355706</td>\n",
       "      <td>0.000906</td>\n",
       "      <td>...</td>\n",
       "      <td>0.411773</td>\n",
       "      <td>0.232481</td>\n",
       "      <td>-0.527885</td>\n",
       "      <td>-0.305296</td>\n",
       "      <td>-0.189008</td>\n",
       "      <td>-0.592684</td>\n",
       "      <td>-1.144780</td>\n",
       "      <td>3.459698</td>\n",
       "      <td>-0.199579</td>\n",
       "      <td>-0.999165</td>\n",
       "    </tr>\n",
       "    <tr>\n",
       "      <th>425</th>\n",
       "      <td>425</td>\n",
       "      <td>ADQRPH513</td>\n",
       "      <td>3</td>\n",
       "      <td>0.000233</td>\n",
       "      <td>0.003029</td>\n",
       "      <td>0.001606</td>\n",
       "      <td>0.001224</td>\n",
       "      <td>-0.092386</td>\n",
       "      <td>-0.434045</td>\n",
       "      <td>0.000668</td>\n",
       "      <td>...</td>\n",
       "      <td>-0.147889</td>\n",
       "      <td>1.168724</td>\n",
       "      <td>-0.486698</td>\n",
       "      <td>1.134707</td>\n",
       "      <td>-0.029372</td>\n",
       "      <td>0.092189</td>\n",
       "      <td>-0.791921</td>\n",
       "      <td>1.786787</td>\n",
       "      <td>2.089036</td>\n",
       "      <td>-0.690614</td>\n",
       "    </tr>\n",
       "    <tr>\n",
       "      <th>426</th>\n",
       "      <td>426</td>\n",
       "      <td>ABNTSS552</td>\n",
       "      <td>4</td>\n",
       "      <td>0.000233</td>\n",
       "      <td>0.006601</td>\n",
       "      <td>-0.001318</td>\n",
       "      <td>0.001098</td>\n",
       "      <td>-0.047733</td>\n",
       "      <td>-0.071875</td>\n",
       "      <td>0.000654</td>\n",
       "      <td>...</td>\n",
       "      <td>-0.064665</td>\n",
       "      <td>-0.444786</td>\n",
       "      <td>-0.879349</td>\n",
       "      <td>1.048909</td>\n",
       "      <td>0.213126</td>\n",
       "      <td>1.170847</td>\n",
       "      <td>-1.172747</td>\n",
       "      <td>1.686595</td>\n",
       "      <td>0.482523</td>\n",
       "      <td>-0.440434</td>\n",
       "    </tr>\n",
       "  </tbody>\n",
       "</table>\n",
       "<p>427 rows × 1027 columns</p>\n",
       "</div>"
      ],
      "text/plain": [
       "     Unnamed: 0        uid  class        f0        f1        f2        f3  \\\n",
       "0             0  ZYURRE527      4  0.000462  0.005583 -0.001031  0.002307   \n",
       "1             1  ZWNWBP435      0  0.000220  0.006780 -0.000547  0.002183   \n",
       "2             2  ZVHEZA963      4  0.000405  0.007183 -0.000137  0.002612   \n",
       "3             3  ZSFNU1100      4  0.000388  0.003802  0.002121  0.001513   \n",
       "4             4  ZRXUB1049      0  0.000425  0.006544  0.001630  0.001549   \n",
       "..          ...        ...    ...       ...       ...       ...       ...   \n",
       "422         422  AGHXWX765      0  0.000305  0.003671 -0.004093  0.003010   \n",
       "423         423  AFEOPC672      3  0.000441  0.006178 -0.000811  0.003572   \n",
       "424         424  AEEEIG737      3  0.000464  0.006611  0.000842  0.001412   \n",
       "425         425  ADQRPH513      3  0.000233  0.003029  0.001606  0.001224   \n",
       "426         426  ABNTSS552      4  0.000233  0.006601 -0.001318  0.001098   \n",
       "\n",
       "           f4        f5        f6  ...     f1014     f1015     f1016  \\\n",
       "0   -0.113097 -0.284965  0.001069  ...  0.680631 -1.153061  0.111816   \n",
       "1   -0.045820 -0.216762  0.000987  ... -1.241972 -0.115316 -0.411191   \n",
       "2   -0.083430 -0.292385  0.001094  ...  0.659314 -0.792833 -0.471358   \n",
       "3   -0.109248 -0.183284  0.000813  ... -0.047666 -0.201043 -0.565545   \n",
       "4   -0.068301 -0.283487  0.001004  ... -1.221178 -0.253239 -0.046740   \n",
       "..        ...       ...       ...  ...       ...       ...       ...   \n",
       "422 -0.093583  0.133018  0.000627  ... -0.260746 -0.741712 -0.887129   \n",
       "423 -0.108863 -0.302020  0.000761  ...  0.457373 -0.782917 -1.072765   \n",
       "424 -0.152744 -0.355706  0.000906  ...  0.411773  0.232481 -0.527885   \n",
       "425 -0.092386 -0.434045  0.000668  ... -0.147889  1.168724 -0.486698   \n",
       "426 -0.047733 -0.071875  0.000654  ... -0.064665 -0.444786 -0.879349   \n",
       "\n",
       "        f1017     f1018     f1019     f1020     f1021     f1022     f1023  \n",
       "0    0.162622 -1.085265 -0.657002 -1.406191  2.240085  0.118616 -0.728013  \n",
       "1    0.431461  0.442649  1.243681 -0.151721  0.458508  1.931918 -0.241081  \n",
       "2    0.514799 -0.846220  0.479314 -0.730218  1.352716  0.040223 -0.163302  \n",
       "3    0.999009 -0.332314 -0.066972 -1.263785  3.876905 -0.397950 -0.693763  \n",
       "4    0.242367 -0.379724 -0.893249 -0.957397  1.118245  0.181925 -0.024197  \n",
       "..        ...       ...       ...       ...       ...       ...       ...  \n",
       "422  0.190525  0.216271  0.490549 -1.047399  1.875185  0.345561 -0.874318  \n",
       "423  1.180279 -0.111142  1.897755 -0.902370  0.552967 -0.314270 -1.198762  \n",
       "424 -0.305296 -0.189008 -0.592684 -1.144780  3.459698 -0.199579 -0.999165  \n",
       "425  1.134707 -0.029372  0.092189 -0.791921  1.786787  2.089036 -0.690614  \n",
       "426  1.048909  0.213126  1.170847 -1.172747  1.686595  0.482523 -0.440434  \n",
       "\n",
       "[427 rows x 1027 columns]"
      ]
     },
     "metadata": {},
     "output_type": "display_data"
    }
   ],
   "source": [
    "# Load in dataset\n",
    "df = pd.read_csv(\"data/full_dataset.csv\")\n",
    "display(df)"
   ]
  },
  {
   "cell_type": "code",
   "execution_count": 3355,
   "metadata": {},
   "outputs": [],
   "source": [
    "# Get list of feature names\n",
    "feature_names = [name for name in df.columns if name.startswith(\"f\")]\n",
    "#print(feature_names)"
   ]
  },
  {
   "cell_type": "markdown",
   "metadata": {},
   "source": [
    "### Split Data into Train/Test Sets"
   ]
  },
  {
   "cell_type": "code",
   "execution_count": 3356,
   "metadata": {},
   "outputs": [
    {
     "name": "stdout",
     "output_type": "stream",
     "text": [
      "Training set by class:\n"
     ]
    },
    {
     "data": {
      "text/plain": [
       "0    111\n",
       "4     76\n",
       "3     54\n",
       "1     38\n",
       "2     19\n",
       "Name: class, dtype: int64"
      ]
     },
     "metadata": {},
     "output_type": "display_data"
    },
    {
     "name": "stdout",
     "output_type": "stream",
     "text": [
      "Test set by class:\n"
     ]
    },
    {
     "data": {
      "text/plain": [
       "0    48\n",
       "4    33\n",
       "3    24\n",
       "1    16\n",
       "2     8\n",
       "Name: class, dtype: int64"
      ]
     },
     "metadata": {},
     "output_type": "display_data"
    }
   ],
   "source": [
    "# Split the data into training and testing sets\n",
    "from sklearn.model_selection import train_test_split\n",
    "\n",
    "X_all = df[feature_names]\n",
    "y_all = df[\"class\"]\n",
    "\n",
    "X_train, X_test, y_train, y_test = train_test_split(\n",
    "    X_all, y_all, test_size=test_percent, random_state=rand_seed, stratify=y_all\n",
    ")\n",
    "\n",
    "# Reset train index\n",
    "y_train.reset_index(inplace=True, drop=True)\n",
    "X_train.reset_index(inplace=True, drop=True)\n",
    "\n",
    "print(\"Training set by class:\")\n",
    "display(y_train.value_counts())\n",
    "print(\"Test set by class:\")\n",
    "display(y_test.value_counts())"
   ]
  },
  {
   "cell_type": "markdown",
   "metadata": {},
   "source": [
    "### Standardize Data\n",
    "\n",
    "Use StandardScaler from sklearn. Standardize both X_train and X_test data."
   ]
  },
  {
   "cell_type": "code",
   "execution_count": 3357,
   "metadata": {},
   "outputs": [],
   "source": [
    "# Setup scaler\n",
    "scaler_std = StandardScaler()\n",
    "\n",
    "# Fit and transform scaling to training data\n",
    "X_train = scaler_std.fit_transform(X_train)\n",
    "# Transform testing data using same fit\n",
    "X_test = scaler_std.transform(X_test)"
   ]
  },
  {
   "cell_type": "code",
   "execution_count": 3358,
   "metadata": {},
   "outputs": [
    {
     "data": {
      "text/plain": [
       "array([[-0.30424846, -1.12221261,  1.36300619, ..., -1.6839747 ,\n",
       "         0.79039146,  0.43540254],\n",
       "       [-0.41336697,  0.85306505, -0.11012979, ...,  1.05915341,\n",
       "         0.76792765, -0.68572629],\n",
       "       [-0.20625588,  0.38437699, -0.0850137 , ..., -0.53267344,\n",
       "         2.45674514,  0.59241311],\n",
       "       ...,\n",
       "       [-0.40652284,  0.39585126, -0.15626227, ...,  0.23483651,\n",
       "         0.78504705,  0.16681407],\n",
       "       [ 0.96244891,  0.86470823,  0.13107729, ..., -0.03687512,\n",
       "         0.20717153, -0.25255312],\n",
       "       [ 0.87266159, -0.3398418 , -1.16416682, ..., -0.88238011,\n",
       "        -0.10678945, -1.17119855]])"
      ]
     },
     "metadata": {},
     "output_type": "display_data"
    }
   ],
   "source": [
    "display(X_train)"
   ]
  },
  {
   "cell_type": "markdown",
   "metadata": {},
   "source": [
    "### Store scaler_std so we can transform the blind test data in another notebook"
   ]
  },
  {
   "cell_type": "code",
   "execution_count": 3359,
   "metadata": {},
   "outputs": [
    {
     "name": "stdout",
     "output_type": "stream",
     "text": [
      "Stored 'scaler_std' (StandardScaler)\n"
     ]
    }
   ],
   "source": [
    "%store scaler_std"
   ]
  },
  {
   "cell_type": "code",
   "execution_count": 3360,
   "metadata": {},
   "outputs": [],
   "source": [
    "# # Get single training DataFrame\n",
    "# norm_x_df = pd.DataFrame(X_train, columns=feature_names)\n",
    "# norm_df = pd.concat([y_train, norm_x_df], axis=1)\n",
    "# # Standardize X_train values\n",
    "# X_train = norm_data(norm_df[feature_names])\n",
    "\n",
    "# # Get single testing DataFrame\n",
    "# norm_xtest_df = pd.DataFrame(X_test, columns=feature_names)\n",
    "# norm_test_df = pd.concat([y_test, norm_x_df], axis=1)\n",
    "# # Standardize X_test values (for later)\n",
    "# X_test = norm_data(norm_test_df[feature_names])"
   ]
  },
  {
   "cell_type": "markdown",
   "metadata": {},
   "source": [
    "### Remove Outliers\n",
    "\n",
    "Since we are in multi-dimensional space, we will use the mean and covariance matrices. This will be computed using Mahalanobis distance which is well-suited for multi-dimensional space: https://docs.scipy.org/doc/scipy/reference/generated/scipy.spatial.distance.mahalanobis.html."
   ]
  },
  {
   "cell_type": "code",
   "execution_count": 3361,
   "metadata": {},
   "outputs": [],
   "source": [
    "# Create function that computes mean, cov matrix, and inv cov matrix\n",
    "def get_mean_cov(X_train):\n",
    "    # Merge dfs\n",
    "    norm_x_df = pd.DataFrame(X_train, columns=feature_names)\n",
    "    norm_df = pd.concat([y_train, norm_x_df], axis=1)\n",
    "    # Compute mean and cov per class per feature\n",
    "    avg_list = []\n",
    "    cov_list = []\n",
    "    inv_cov_list = []\n",
    "    for i in range(5):\n",
    "        # Compute mean\n",
    "        avg = np.mean(norm_df[norm_df[\"class\"]==i][feature_names], axis=0)\n",
    "        avg_list.append(avg)\n",
    "        # Compute cov matrix\n",
    "        cov = np.cov(norm_df[norm_df[\"class\"]==i][feature_names], rowvar=False)\n",
    "        cov_list.append(cov)\n",
    "        # Compute inverse of cov matrix\n",
    "        inv_cov = np.linalg.inv(cov)\n",
    "        inv_cov_list.append(inv_cov)\n",
    "    return norm_df, avg_list, inv_cov_list\n"
   ]
  },
  {
   "cell_type": "code",
   "execution_count": 3362,
   "metadata": {},
   "outputs": [],
   "source": [
    "# Test get_mean_cov function\n",
    "norm_df, avg_list, inv_cov_list = get_mean_cov(X_train)"
   ]
  },
  {
   "cell_type": "code",
   "execution_count": 3363,
   "metadata": {},
   "outputs": [
    {
     "data": {
      "text/plain": [
       "count    298.000000\n",
       "mean      32.655150\n",
       "std       16.689207\n",
       "min        2.359362\n",
       "25%       21.363562\n",
       "50%       30.543926\n",
       "75%       40.980192\n",
       "max      111.688343\n",
       "Name: mahalanobis_dist, dtype: float64"
      ]
     },
     "execution_count": 3363,
     "metadata": {},
     "output_type": "execute_result"
    }
   ],
   "source": [
    "# Determine which features should be removed (identify outliers based on Mahalanobis dist)\n",
    "# Create function that computes Mahalanobis distance and adds it to norm_df\n",
    "def get_mahalanobis_dist(label, features):\n",
    "    u = avg_list[label]\n",
    "    v = features\n",
    "    vi = inv_cov_list[label]\n",
    "    delta = u - v\n",
    "    m = np.dot(np.dot(delta, vi), delta)\n",
    "    #dist = distance.mahalanobis(u, features, vi)\n",
    "    return np.sqrt(np.abs(m))\n",
    "\n",
    "# Call function for each feature\n",
    "norm_df[\"mahalanobis_dist\"] = norm_df.apply(lambda row: get_mahalanobis_dist(int(row[\"class\"]), row[feature_names]), axis=1)\n",
    "norm_df[\"mahalanobis_dist\"].describe()"
   ]
  },
  {
   "cell_type": "code",
   "execution_count": 3364,
   "metadata": {},
   "outputs": [],
   "source": [
    "# Drop outliers\n",
    "def drop_outliers(norm_df, threshold):\n",
    "    # Remove threshold% of outliers by class\n",
    "    for i in range(5):\n",
    "        # Get threshold% of outliers for each class\n",
    "        threshold_num = norm_df[norm_df[\"class\"]==i][\"mahalanobis_dist\"].quantile(1-threshold)\n",
    "        # Drop threshold% of outliers for each class\n",
    "        norm_df = norm_df.drop(norm_df[norm_df[\"class\"]==i][norm_df[\"mahalanobis_dist\"]>threshold_num].index)        \n",
    "    return norm_df"
   ]
  },
  {
   "cell_type": "code",
   "execution_count": 3365,
   "metadata": {},
   "outputs": [
    {
     "name": "stderr",
     "output_type": "stream",
     "text": [
      "C:\\Users\\heath\\AppData\\Local\\Temp\\ipykernel_13048\\977542497.py:8: UserWarning: Boolean Series key will be reindexed to match DataFrame index.\n",
      "  norm_df = norm_df.drop(norm_df[norm_df[\"class\"]==i][norm_df[\"mahalanobis_dist\"]>threshold_num].index)\n"
     ]
    },
    {
     "data": {
      "text/plain": [
       "count    282.000000\n",
       "mean      30.914142\n",
       "std       14.687644\n",
       "min        2.359362\n",
       "25%       20.752967\n",
       "50%       29.158105\n",
       "75%       39.450062\n",
       "max       90.028271\n",
       "Name: mahalanobis_dist, dtype: float64"
      ]
     },
     "execution_count": 3365,
     "metadata": {},
     "output_type": "execute_result"
    }
   ],
   "source": [
    "# Test drop_outliers function\n",
    "norm_df = drop_outliers(norm_df, m_thresh)\n",
    "\n",
    "# Print updated descriptive stats\n",
    "norm_df[\"mahalanobis_dist\"].describe()\n",
    "#print(len(norm_df[\"class\"]))"
   ]
  },
  {
   "cell_type": "code",
   "execution_count": 3366,
   "metadata": {},
   "outputs": [],
   "source": [
    "# Update X_train and y_train\n",
    "X_train = norm_df[feature_names]\n",
    "y_train = norm_df[\"class\"]"
   ]
  },
  {
   "cell_type": "markdown",
   "metadata": {},
   "source": [
    "### Oversample Data\n",
    "\n",
    "Use ADASYN technique."
   ]
  },
  {
   "cell_type": "code",
   "execution_count": 3367,
   "metadata": {},
   "outputs": [],
   "source": [
    "# Create function that oversamples or undersamples data\n",
    "def resample(sampler, X_train, y_train, name):\n",
    "    X_train, y_train = sampler.fit_resample(X_train, y_train)\n",
    "    # Observe number of classes after resample\n",
    "    #print(f\"Number of samples per class after {name}:\\n{y_train.value_counts()}\")\n",
    "    return X_train, y_train"
   ]
  },
  {
   "cell_type": "code",
   "execution_count": 3368,
   "metadata": {},
   "outputs": [],
   "source": [
    "# Test resample function\n",
    "# Setup ADASYN (oversampling)\n",
    "ada = ADASYN(random_state=rand_seed, sampling_strategy=\"minority\", n_neighbors=4)\n",
    "\n",
    "# Call resample function\n",
    "X_train, y_train = resample(ada, X_train, y_train, \"ADASYN Oversampling\")"
   ]
  },
  {
   "cell_type": "code",
   "execution_count": 3369,
   "metadata": {},
   "outputs": [
    {
     "name": "stdout",
     "output_type": "stream",
     "text": [
      "(372, 1024)\n",
      "2    108\n",
      "0    105\n",
      "4     72\n",
      "3     51\n",
      "1     36\n",
      "Name: class, dtype: int64\n"
     ]
    }
   ],
   "source": [
    "print(X_train.shape)\n",
    "print(y_train.value_counts())"
   ]
  },
  {
   "cell_type": "markdown",
   "metadata": {},
   "source": [
    "### Feature Selection"
   ]
  },
  {
   "cell_type": "code",
   "execution_count": 1,
   "metadata": {},
   "outputs": [
    {
     "ename": "NameError",
     "evalue": "name 'pd' is not defined",
     "output_type": "error",
     "traceback": [
      "\u001b[1;31m---------------------------------------------------------------------------\u001b[0m",
      "\u001b[1;31mNameError\u001b[0m                                 Traceback (most recent call last)",
      "Cell \u001b[1;32mIn [1], line 2\u001b[0m\n\u001b[0;32m      1\u001b[0m \u001b[39m# List from Azure ML Designer (Filter Based Feature Selection)\u001b[39;00m\n\u001b[1;32m----> 2\u001b[0m azureml_features \u001b[39m=\u001b[39m pd\u001b[39m.\u001b[39mread_csv(\u001b[39m\"\u001b[39m\u001b[39moutputs/feature_selection/azureml_designer_features.csv\u001b[39m\u001b[39m\"\u001b[39m, header\u001b[39m=\u001b[39m\u001b[39mNone\u001b[39;00m)\n\u001b[0;32m      3\u001b[0m \u001b[39m# List from recursive feature elimination w/ and w/o cross-validation\u001b[39;00m\n\u001b[0;32m      4\u001b[0m rfe_features \u001b[39m=\u001b[39m pd\u001b[39m.\u001b[39mread_csv(\u001b[39m\"\u001b[39m\u001b[39moutputs/feature_selection/CommonFeatures_RFE_RFECV.csv\u001b[39m\u001b[39m\"\u001b[39m, header\u001b[39m=\u001b[39m\u001b[39mNone\u001b[39;00m)\n",
      "\u001b[1;31mNameError\u001b[0m: name 'pd' is not defined"
     ]
    }
   ],
   "source": [
    "# List from Azure ML Designer (Filter Based Feature Selection)\n",
    "azureml_features = pd.read_csv(\"outputs/feature_selection/azureml_designer_features.csv\", header=None)\n",
    "# List from recursive feature elimination w/ and w/o cross-validation\n",
    "rfe_features = pd.read_csv(\"outputs/feature_selection/CommonFeatures_RFE_RFECV.csv\", header=None)\n",
    "\n",
    "rfe_features = rfe_features[0].to_numpy()\n",
    "#display(rfe_features)\n",
    "azureml_features = azureml_features[0].to_numpy()\n",
    "# display(azureml_features)\n",
    "\n",
    "# Get out common features\n",
    "#intersect_features = np.intersect1d(azureml_features, rfe_features)\n",
    "common_features = np.union1d(azureml_features, rfe_features)\n",
    "extracted_feature_names = [f\"f{i}\" for i in common_features]\n",
    "extracted_feature_names_nof = [f\"{i}\" for i in common_features]\n",
    "#print(extracted_feature_names)\n",
    "#display(extracted_feature_names)\n",
    "print(np.count_nonzero(common_features))"
   ]
  },
  {
   "cell_type": "markdown",
   "metadata": {},
   "source": [
    "### Store extracted_feature_names for use in inference notebook"
   ]
  },
  {
   "cell_type": "code",
   "execution_count": 3371,
   "metadata": {},
   "outputs": [
    {
     "name": "stdout",
     "output_type": "stream",
     "text": [
      "Stored 'common_features' (ndarray)\n"
     ]
    }
   ],
   "source": [
    "%store common_features"
   ]
  },
  {
   "cell_type": "code",
   "execution_count": 3372,
   "metadata": {},
   "outputs": [
    {
     "name": "stdout",
     "output_type": "stream",
     "text": [
      "Stored 'extracted_feature_names_nof' (list)\n"
     ]
    }
   ],
   "source": [
    "%store extracted_feature_names_nof"
   ]
  },
  {
   "cell_type": "code",
   "execution_count": 3373,
   "metadata": {},
   "outputs": [],
   "source": [
    "# Get training dataset with only\n",
    "# the subset of features included\n",
    "X_train = X_train[extracted_feature_names]\n",
    "#print(X_train)\n",
    "\n",
    "# Get testing dataset wiuth only\n",
    "# the subset of features included\n",
    "X_test = pd.DataFrame(X_test, columns=feature_names)\n",
    "X_test = X_test[extracted_feature_names]\n",
    "#print(X_test)"
   ]
  },
  {
   "cell_type": "markdown",
   "metadata": {},
   "source": [
    "### Hyperparameter Tuning"
   ]
  },
  {
   "cell_type": "code",
   "execution_count": 3374,
   "metadata": {},
   "outputs": [],
   "source": [
    "# Setup parameters to try\n",
    "c_range = np.arange(5,4000)\n",
    "params = {\n",
    "    'C': c_range,\n",
    "    'kernel': ['linear', 'rbf'],\n",
    "    'gamma': ['scale', 'auto']\n",
    "}\n",
    "\n",
    "# Setup classifier\n",
    "svm = SVC(random_state=rand_seed)\n",
    "# Configure random search from sklearn\n",
    "svm_clf = RandomizedSearchCV(svm, params, scoring='f1_macro', cv=k, random_state=rand_seed)\n",
    "# Perform hyperparameter search\n",
    "search = svm_clf.fit(X_train, y_train)\n",
    "\n",
    "# Get best hyperparameters\n",
    "best_params = search.best_params_"
   ]
  },
  {
   "cell_type": "code",
   "execution_count": 3375,
   "metadata": {},
   "outputs": [
    {
     "name": "stdout",
     "output_type": "stream",
     "text": [
      "{'kernel': 'linear', 'gamma': 'auto', 'C': 382}\n"
     ]
    },
    {
     "data": {
      "text/html": [
       "<div>\n",
       "<style scoped>\n",
       "    .dataframe tbody tr th:only-of-type {\n",
       "        vertical-align: middle;\n",
       "    }\n",
       "\n",
       "    .dataframe tbody tr th {\n",
       "        vertical-align: top;\n",
       "    }\n",
       "\n",
       "    .dataframe thead th {\n",
       "        text-align: right;\n",
       "    }\n",
       "</style>\n",
       "<table border=\"1\" class=\"dataframe\">\n",
       "  <thead>\n",
       "    <tr style=\"text-align: right;\">\n",
       "      <th></th>\n",
       "      <th>mean_fit_time</th>\n",
       "      <th>std_fit_time</th>\n",
       "      <th>mean_score_time</th>\n",
       "      <th>std_score_time</th>\n",
       "      <th>param_kernel</th>\n",
       "      <th>param_gamma</th>\n",
       "      <th>param_C</th>\n",
       "      <th>params</th>\n",
       "      <th>split0_test_score</th>\n",
       "      <th>split1_test_score</th>\n",
       "      <th>split2_test_score</th>\n",
       "      <th>split3_test_score</th>\n",
       "      <th>split4_test_score</th>\n",
       "      <th>mean_test_score</th>\n",
       "      <th>std_test_score</th>\n",
       "      <th>rank_test_score</th>\n",
       "    </tr>\n",
       "  </thead>\n",
       "  <tbody>\n",
       "    <tr>\n",
       "      <th>0</th>\n",
       "      <td>0.115958</td>\n",
       "      <td>0.012558</td>\n",
       "      <td>0.037728</td>\n",
       "      <td>0.006554</td>\n",
       "      <td>rbf</td>\n",
       "      <td>auto</td>\n",
       "      <td>721</td>\n",
       "      <td>{'kernel': 'rbf', 'gamma': 'auto', 'C': 721}</td>\n",
       "      <td>0.516667</td>\n",
       "      <td>0.703787</td>\n",
       "      <td>0.609713</td>\n",
       "      <td>0.588141</td>\n",
       "      <td>0.622194</td>\n",
       "      <td>0.608100</td>\n",
       "      <td>0.060192</td>\n",
       "      <td>3</td>\n",
       "    </tr>\n",
       "    <tr>\n",
       "      <th>1</th>\n",
       "      <td>0.108305</td>\n",
       "      <td>0.013580</td>\n",
       "      <td>0.032675</td>\n",
       "      <td>0.005535</td>\n",
       "      <td>rbf</td>\n",
       "      <td>scale</td>\n",
       "      <td>303</td>\n",
       "      <td>{'kernel': 'rbf', 'gamma': 'scale', 'C': 303}</td>\n",
       "      <td>0.503301</td>\n",
       "      <td>0.703787</td>\n",
       "      <td>0.598150</td>\n",
       "      <td>0.588141</td>\n",
       "      <td>0.622194</td>\n",
       "      <td>0.603114</td>\n",
       "      <td>0.064359</td>\n",
       "      <td>6</td>\n",
       "    </tr>\n",
       "    <tr>\n",
       "      <th>2</th>\n",
       "      <td>0.098982</td>\n",
       "      <td>0.013556</td>\n",
       "      <td>0.031242</td>\n",
       "      <td>0.004518</td>\n",
       "      <td>rbf</td>\n",
       "      <td>auto</td>\n",
       "      <td>1596</td>\n",
       "      <td>{'kernel': 'rbf', 'gamma': 'auto', 'C': 1596}</td>\n",
       "      <td>0.516667</td>\n",
       "      <td>0.703787</td>\n",
       "      <td>0.609713</td>\n",
       "      <td>0.588141</td>\n",
       "      <td>0.622194</td>\n",
       "      <td>0.608100</td>\n",
       "      <td>0.060192</td>\n",
       "      <td>3</td>\n",
       "    </tr>\n",
       "    <tr>\n",
       "      <th>3</th>\n",
       "      <td>0.089676</td>\n",
       "      <td>0.005782</td>\n",
       "      <td>0.027209</td>\n",
       "      <td>0.001758</td>\n",
       "      <td>rbf</td>\n",
       "      <td>scale</td>\n",
       "      <td>931</td>\n",
       "      <td>{'kernel': 'rbf', 'gamma': 'scale', 'C': 931}</td>\n",
       "      <td>0.503301</td>\n",
       "      <td>0.703787</td>\n",
       "      <td>0.598150</td>\n",
       "      <td>0.588141</td>\n",
       "      <td>0.622194</td>\n",
       "      <td>0.603114</td>\n",
       "      <td>0.064359</td>\n",
       "      <td>6</td>\n",
       "    </tr>\n",
       "    <tr>\n",
       "      <th>4</th>\n",
       "      <td>0.083433</td>\n",
       "      <td>0.010457</td>\n",
       "      <td>0.023674</td>\n",
       "      <td>0.005341</td>\n",
       "      <td>linear</td>\n",
       "      <td>auto</td>\n",
       "      <td>382</td>\n",
       "      <td>{'kernel': 'linear', 'gamma': 'auto', 'C': 382}</td>\n",
       "      <td>0.505238</td>\n",
       "      <td>0.628862</td>\n",
       "      <td>0.591835</td>\n",
       "      <td>0.687128</td>\n",
       "      <td>0.647002</td>\n",
       "      <td>0.612013</td>\n",
       "      <td>0.061577</td>\n",
       "      <td>1</td>\n",
       "    </tr>\n",
       "    <tr>\n",
       "      <th>5</th>\n",
       "      <td>0.117038</td>\n",
       "      <td>0.012285</td>\n",
       "      <td>0.047902</td>\n",
       "      <td>0.017229</td>\n",
       "      <td>rbf</td>\n",
       "      <td>scale</td>\n",
       "      <td>2022</td>\n",
       "      <td>{'kernel': 'rbf', 'gamma': 'scale', 'C': 2022}</td>\n",
       "      <td>0.503301</td>\n",
       "      <td>0.703787</td>\n",
       "      <td>0.598150</td>\n",
       "      <td>0.588141</td>\n",
       "      <td>0.622194</td>\n",
       "      <td>0.603114</td>\n",
       "      <td>0.064359</td>\n",
       "      <td>6</td>\n",
       "    </tr>\n",
       "    <tr>\n",
       "      <th>6</th>\n",
       "      <td>0.104609</td>\n",
       "      <td>0.006462</td>\n",
       "      <td>0.030355</td>\n",
       "      <td>0.003081</td>\n",
       "      <td>rbf</td>\n",
       "      <td>auto</td>\n",
       "      <td>2352</td>\n",
       "      <td>{'kernel': 'rbf', 'gamma': 'auto', 'C': 2352}</td>\n",
       "      <td>0.516667</td>\n",
       "      <td>0.703787</td>\n",
       "      <td>0.609713</td>\n",
       "      <td>0.588141</td>\n",
       "      <td>0.622194</td>\n",
       "      <td>0.608100</td>\n",
       "      <td>0.060192</td>\n",
       "      <td>3</td>\n",
       "    </tr>\n",
       "    <tr>\n",
       "      <th>7</th>\n",
       "      <td>0.090814</td>\n",
       "      <td>0.013932</td>\n",
       "      <td>0.028485</td>\n",
       "      <td>0.006852</td>\n",
       "      <td>rbf</td>\n",
       "      <td>scale</td>\n",
       "      <td>650</td>\n",
       "      <td>{'kernel': 'rbf', 'gamma': 'scale', 'C': 650}</td>\n",
       "      <td>0.503301</td>\n",
       "      <td>0.703787</td>\n",
       "      <td>0.598150</td>\n",
       "      <td>0.588141</td>\n",
       "      <td>0.622194</td>\n",
       "      <td>0.603114</td>\n",
       "      <td>0.064359</td>\n",
       "      <td>6</td>\n",
       "    </tr>\n",
       "    <tr>\n",
       "      <th>8</th>\n",
       "      <td>0.063391</td>\n",
       "      <td>0.001832</td>\n",
       "      <td>0.018175</td>\n",
       "      <td>0.000435</td>\n",
       "      <td>rbf</td>\n",
       "      <td>scale</td>\n",
       "      <td>3159</td>\n",
       "      <td>{'kernel': 'rbf', 'gamma': 'scale', 'C': 3159}</td>\n",
       "      <td>0.503301</td>\n",
       "      <td>0.703787</td>\n",
       "      <td>0.598150</td>\n",
       "      <td>0.588141</td>\n",
       "      <td>0.622194</td>\n",
       "      <td>0.603114</td>\n",
       "      <td>0.064359</td>\n",
       "      <td>6</td>\n",
       "    </tr>\n",
       "    <tr>\n",
       "      <th>9</th>\n",
       "      <td>0.051201</td>\n",
       "      <td>0.001426</td>\n",
       "      <td>0.013521</td>\n",
       "      <td>0.000411</td>\n",
       "      <td>linear</td>\n",
       "      <td>auto</td>\n",
       "      <td>1969</td>\n",
       "      <td>{'kernel': 'linear', 'gamma': 'auto', 'C': 1969}</td>\n",
       "      <td>0.505238</td>\n",
       "      <td>0.628862</td>\n",
       "      <td>0.591835</td>\n",
       "      <td>0.687128</td>\n",
       "      <td>0.647002</td>\n",
       "      <td>0.612013</td>\n",
       "      <td>0.061577</td>\n",
       "      <td>1</td>\n",
       "    </tr>\n",
       "  </tbody>\n",
       "</table>\n",
       "</div>"
      ],
      "text/plain": [
       "   mean_fit_time  std_fit_time  mean_score_time  std_score_time param_kernel  \\\n",
       "0       0.115958      0.012558         0.037728        0.006554          rbf   \n",
       "1       0.108305      0.013580         0.032675        0.005535          rbf   \n",
       "2       0.098982      0.013556         0.031242        0.004518          rbf   \n",
       "3       0.089676      0.005782         0.027209        0.001758          rbf   \n",
       "4       0.083433      0.010457         0.023674        0.005341       linear   \n",
       "5       0.117038      0.012285         0.047902        0.017229          rbf   \n",
       "6       0.104609      0.006462         0.030355        0.003081          rbf   \n",
       "7       0.090814      0.013932         0.028485        0.006852          rbf   \n",
       "8       0.063391      0.001832         0.018175        0.000435          rbf   \n",
       "9       0.051201      0.001426         0.013521        0.000411       linear   \n",
       "\n",
       "  param_gamma param_C                                            params  \\\n",
       "0        auto     721      {'kernel': 'rbf', 'gamma': 'auto', 'C': 721}   \n",
       "1       scale     303     {'kernel': 'rbf', 'gamma': 'scale', 'C': 303}   \n",
       "2        auto    1596     {'kernel': 'rbf', 'gamma': 'auto', 'C': 1596}   \n",
       "3       scale     931     {'kernel': 'rbf', 'gamma': 'scale', 'C': 931}   \n",
       "4        auto     382   {'kernel': 'linear', 'gamma': 'auto', 'C': 382}   \n",
       "5       scale    2022    {'kernel': 'rbf', 'gamma': 'scale', 'C': 2022}   \n",
       "6        auto    2352     {'kernel': 'rbf', 'gamma': 'auto', 'C': 2352}   \n",
       "7       scale     650     {'kernel': 'rbf', 'gamma': 'scale', 'C': 650}   \n",
       "8       scale    3159    {'kernel': 'rbf', 'gamma': 'scale', 'C': 3159}   \n",
       "9        auto    1969  {'kernel': 'linear', 'gamma': 'auto', 'C': 1969}   \n",
       "\n",
       "   split0_test_score  split1_test_score  split2_test_score  split3_test_score  \\\n",
       "0           0.516667           0.703787           0.609713           0.588141   \n",
       "1           0.503301           0.703787           0.598150           0.588141   \n",
       "2           0.516667           0.703787           0.609713           0.588141   \n",
       "3           0.503301           0.703787           0.598150           0.588141   \n",
       "4           0.505238           0.628862           0.591835           0.687128   \n",
       "5           0.503301           0.703787           0.598150           0.588141   \n",
       "6           0.516667           0.703787           0.609713           0.588141   \n",
       "7           0.503301           0.703787           0.598150           0.588141   \n",
       "8           0.503301           0.703787           0.598150           0.588141   \n",
       "9           0.505238           0.628862           0.591835           0.687128   \n",
       "\n",
       "   split4_test_score  mean_test_score  std_test_score  rank_test_score  \n",
       "0           0.622194         0.608100        0.060192                3  \n",
       "1           0.622194         0.603114        0.064359                6  \n",
       "2           0.622194         0.608100        0.060192                3  \n",
       "3           0.622194         0.603114        0.064359                6  \n",
       "4           0.647002         0.612013        0.061577                1  \n",
       "5           0.622194         0.603114        0.064359                6  \n",
       "6           0.622194         0.608100        0.060192                3  \n",
       "7           0.622194         0.603114        0.064359                6  \n",
       "8           0.622194         0.603114        0.064359                6  \n",
       "9           0.647002         0.612013        0.061577                1  "
      ]
     },
     "metadata": {},
     "output_type": "display_data"
    }
   ],
   "source": [
    "print(best_params)\n",
    "#display(search.cv_results_)\n",
    "\n",
    "hyperparam_results_df = pd.DataFrame(search.cv_results_)\n",
    "display(hyperparam_results_df)"
   ]
  },
  {
   "cell_type": "code",
   "execution_count": 3376,
   "metadata": {},
   "outputs": [],
   "source": [
    "def analyze_classifier_with_k_folds(classifier, n_splits=5, random_state=rand_seed):\n",
    "    classifiers = []\n",
    "    accuracy_scores = []\n",
    "    f1_scores = []\n",
    "    precision_scores = []\n",
    "    recall_scores = []\n",
    "\n",
    "    skf = StratifiedKFold(n_splits=n_splits, shuffle=True, random_state=random_state)\n",
    "    for train_index, test_index in skf.split(X_train, y_train):\n",
    "        X_train_fold, X_test_fold = X_train.iloc[train_index], X_train.iloc[test_index]\n",
    "        y_train_fold, y_test_fold = y_train.iloc[train_index], y_train.iloc[test_index]\n",
    "\n",
    "        classifier.fit(X_train_fold, y_train_fold)\n",
    "        classifiers.append(classifier)\n",
    "\n",
    "        y_pred = classifier.predict(X_test_fold)\n",
    "\n",
    "        accuracy_scores.append(accuracy_score(y_test_fold, y_pred))\n",
    "        f1_scores.append(f1_score(y_test_fold, y_pred, average=\"macro\"))\n",
    "        precision_scores.append(\n",
    "            precision_score(y_test_fold, y_pred, average=\"macro\")\n",
    "        )\n",
    "        recall_scores.append(recall_score(y_test_fold, y_pred, average=\"macro\"))\n",
    "\n",
    "    return classifiers, {\n",
    "        \"accuracy\": pd.Series(accuracy_scores).describe().to_dict(),\n",
    "        \"f1\": pd.Series(f1_scores).describe().to_dict(),\n",
    "        \"precision\": pd.Series(precision_scores).describe().to_dict(),\n",
    "        \"recall\": pd.Series(recall_scores).describe().to_dict(),\n",
    "    }\n"
   ]
  },
  {
   "cell_type": "code",
   "execution_count": 3377,
   "metadata": {},
   "outputs": [
    {
     "data": {
      "text/plain": [
       "([SVC(C=382, gamma='auto', kernel='linear', random_state=255),\n",
       "  SVC(C=382, gamma='auto', kernel='linear', random_state=255),\n",
       "  SVC(C=382, gamma='auto', kernel='linear', random_state=255),\n",
       "  SVC(C=382, gamma='auto', kernel='linear', random_state=255),\n",
       "  SVC(C=382, gamma='auto', kernel='linear', random_state=255)],\n",
       " {'accuracy': {'count': 5.0,\n",
       "   'mean': 0.6695135135135135,\n",
       "   'std': 0.04652983522544055,\n",
       "   'min': 0.6,\n",
       "   '25%': 0.6621621621621622,\n",
       "   '50%': 0.6756756756756757,\n",
       "   '75%': 0.68,\n",
       "   'max': 0.7297297297297297},\n",
       "  'f1': {'count': 5.0,\n",
       "   'mean': 0.5884773384230273,\n",
       "   'std': 0.05214115687365137,\n",
       "   'min': 0.5352499260573794,\n",
       "   '25%': 0.5409101168899318,\n",
       "   '50%': 0.586973026973027,\n",
       "   '75%': 0.6231313131313132,\n",
       "   'max': 0.6561223090634856},\n",
       "  'precision': {'count': 5.0,\n",
       "   'mean': 0.5982153209109731,\n",
       "   'std': 0.05446210532604825,\n",
       "   'min': 0.5436853002070393,\n",
       "   '25%': 0.550952380952381,\n",
       "   '50%': 0.5900621118012422,\n",
       "   '75%': 0.636656314699793,\n",
       "   'max': 0.6697204968944099},\n",
       "  'recall': {'count': 5.0,\n",
       "   'mean': 0.5889567099567099,\n",
       "   'std': 0.04735348124534765,\n",
       "   'min': 0.5409523809523809,\n",
       "   '25%': 0.5457142857142856,\n",
       "   '50%': 0.5878787878787877,\n",
       "   '75%': 0.6188095238095238,\n",
       "   'max': 0.6514285714285715}})"
      ]
     },
     "execution_count": 3377,
     "metadata": {},
     "output_type": "execute_result"
    }
   ],
   "source": [
    "svm_final_clf = SVC(**best_params, random_state=rand_seed)\n",
    "analyze_classifier_with_k_folds(svm_final_clf, n_splits=k)"
   ]
  },
  {
   "cell_type": "markdown",
   "metadata": {},
   "source": [
    "### Get Final Model"
   ]
  },
  {
   "cell_type": "code",
   "execution_count": 3378,
   "metadata": {},
   "outputs": [
    {
     "name": "stdout",
     "output_type": "stream",
     "text": [
      "Accuracy: 0.5116\n",
      "F1 macro score: 0.4828\n",
      "Precision: 0.4939\n",
      "Recall: 0.4795\n"
     ]
    }
   ],
   "source": [
    "# Fit model using best hyperparameters found in previous search\n",
    "svm_final_clf = SVC(**best_params, random_state=rand_seed)\n",
    "svm_model_final = svm_final_clf.fit(X_train, y_train)\n",
    "\n",
    "y_pred = svm_model_final.predict(X_test)\n",
    "\n",
    "acc = accuracy_score(y_test, y_pred)\n",
    "f1 = f1_score(y_test, y_pred, average=\"macro\")\n",
    "precision = precision_score(y_test, y_pred, average=\"macro\")\n",
    "recall = recall_score(y_test, y_pred, average=\"macro\")\n",
    "\n",
    "print(f\"Accuracy: {acc:.4f}\")\n",
    "print(f\"F1 macro score: {f1:.4f}\")\n",
    "print(f\"Precision: {precision:.4f}\")\n",
    "print(f\"Recall: {recall:.4f}\")"
   ]
  },
  {
   "cell_type": "code",
   "execution_count": 3379,
   "metadata": {},
   "outputs": [],
   "source": [
    "# Use cross validation for evaluation\n",
    "cv_scores = cross_val_score(svm_model_final, X_train, y_train, cv=7,\n",
    "    scoring=\"f1_macro\")\n",
    "#print(cv_scores)"
   ]
  },
  {
   "attachments": {},
   "cell_type": "markdown",
   "metadata": {},
   "source": [
    "### Save the f1 macro score and random seed to a csv file"
   ]
  },
  {
   "cell_type": "code",
   "execution_count": 3380,
   "metadata": {},
   "outputs": [],
   "source": [
    "# Create dataframe to store results\n",
    "results_df = pd.DataFrame(columns=[\"F1Score\", \"RandomSeed\", \"cv1\", \"cv2\", \"cv3\", \"cv4\", \"cv5\"])\n",
    "\n",
    "results_df.loc[0] = [f1, rand_seed, cv_scores[0], cv_scores[1], cv_scores[2],\n",
    "    cv_scores[3], cv_scores[4]] "
   ]
  },
  {
   "cell_type": "code",
   "execution_count": 3381,
   "metadata": {},
   "outputs": [],
   "source": [
    "# Save results to csv\n",
    "# Check if csv exists\n",
    "file_path = \"outputs/training_pipeline_results.csv\"\n",
    "if os.path.isfile(file_path):\n",
    "    # Append new results\n",
    "    results_df.to_csv(file_path, mode=\"a\", header=False)\n",
    "else:\n",
    "    # Create new csv and add results\n",
    "    results_df.to_csv(file_path, header=True)"
   ]
  },
  {
   "cell_type": "markdown",
   "metadata": {},
   "source": [
    "### Store the model for use in inference notebook"
   ]
  },
  {
   "cell_type": "code",
   "execution_count": 3383,
   "metadata": {},
   "outputs": [
    {
     "name": "stdout",
     "output_type": "stream",
     "text": [
      "Stored 'svm_model_final' (SVC)\n"
     ]
    }
   ],
   "source": [
    "%store svm_model_final"
   ]
  },
  {
   "cell_type": "code",
   "execution_count": 3384,
   "metadata": {},
   "outputs": [
    {
     "data": {
      "text/plain": [
       "['svm_model.joblib']"
      ]
     },
     "execution_count": 3384,
     "metadata": {},
     "output_type": "execute_result"
    }
   ],
   "source": [
    "# Save model as pickle\n",
    "s = pkl.dumps(svm_model_final)\n",
    "dump(svm_model_final, \"svm_model.joblib\")"
   ]
  },
  {
   "cell_type": "markdown",
   "metadata": {},
   "source": [
    "### Use Meta Learning!\n",
    "\n",
    "In addition to the svm classifier above (svm), we'll use the VotingClassifier() from sklearn which takes multiple estimators as input, and implements a voting procedure. We will use the following classifiers:\n",
    "\n",
    "- SVM (already created)\n",
    "- Naive Bayes\n",
    "- kNN, k=5\n",
    "- Decision Tree, max depth = 8\n",
    "- Logistic Regression"
   ]
  },
  {
   "cell_type": "code",
   "execution_count": 3385,
   "metadata": {},
   "outputs": [],
   "source": [
    "# Create all the classifiers!\n",
    "# Naive Bayes\n",
    "nb_clf = GaussianNB()\n",
    "\n",
    "# kNN, k=5\n",
    "knn_clf = KNeighborsClassifier(n_neighbors=5)\n",
    "\n",
    "# Decision tree, max depth=8\n",
    "dt_clf = DecisionTreeClassifier(random_state=rand_seed, max_depth=8)\n",
    "\n",
    "# Logistic regression\n",
    "lr_clf = LogisticRegression(random_state=rand_seed, max_iter=1000)"
   ]
  },
  {
   "cell_type": "code",
   "execution_count": 3386,
   "metadata": {},
   "outputs": [
    {
     "name": "stdout",
     "output_type": "stream",
     "text": [
      "Ensemble accuracy: 0.4729\n",
      "Ensemble F1 macro score: 0.4408\n",
      "Ensemble precision: 0.5031\n",
      "Ensemble recall: 0.4557\n"
     ]
    }
   ],
   "source": [
    "# Put them to a vote!\n",
    "ensemble_clf = VotingClassifier(estimators=[\n",
    "    ('svm', svm), ('nb', nb_clf), ('knn', knn_clf),\n",
    "    ('dt', dt_clf), ('lr', lr_clf)], voting='hard'\n",
    ")\n",
    "\n",
    "# Fit and predict with voting classifier\n",
    "ensemble_clf = ensemble_clf.fit(X_train, y_train)\n",
    "ensemble_pred = ensemble_clf.predict(X_test)\n",
    "\n",
    "# Get metrics\n",
    "ensemble_acc = accuracy_score(y_test, ensemble_pred)\n",
    "ensemble_f1 = f1_score(y_test, ensemble_pred, average=\"macro\")\n",
    "ensemble_precision = precision_score(y_test, ensemble_pred, average=\"macro\")\n",
    "ensemble_recall = recall_score(y_test, ensemble_pred, average=\"macro\")\n",
    "\n",
    "print(f\"Ensemble accuracy: {ensemble_acc:.4f}\")\n",
    "print(f\"Ensemble F1 macro score: {ensemble_f1:.4f}\")\n",
    "print(f\"Ensemble precision: {ensemble_precision:.4f}\")\n",
    "print(f\"Ensemble recall: {ensemble_recall:.4f}\")"
   ]
  },
  {
   "cell_type": "code",
   "execution_count": 3387,
   "metadata": {},
   "outputs": [
    {
     "data": {
      "text/plain": [
       "<sklearn.metrics._plot.confusion_matrix.ConfusionMatrixDisplay at 0x26886d40a30>"
      ]
     },
     "execution_count": 3387,
     "metadata": {},
     "output_type": "execute_result"
    },
    {
     "data": {
      "image/png": "[encoded data removed]",
      "text/plain": [
       "<Figure size 640x480 with 2 Axes>"
      ]
     },
     "metadata": {},
     "output_type": "display_data"
    }
   ],
   "source": [
    "# Confusion matrix\n",
    "cm = confusion_matrix(y_test, ensemble_pred, normalize=\"true\")\n",
    "\n",
    "disp = ConfusionMatrixDisplay(confusion_matrix=cm)\n",
    "disp.plot()"
   ]
  },
  {
   "cell_type": "markdown",
   "metadata": {},
   "source": [
    "### Meta Learning with Weighted Average!\n",
    "\n",
    "Based on classifier performance\n",
    "\n",
    "https://machinelearningmastery.com/weighted-average-ensemble-with-python/"
   ]
  },
  {
   "cell_type": "code",
   "execution_count": 3388,
   "metadata": {},
   "outputs": [
    {
     "name": "stdout",
     "output_type": "stream",
     "text": [
      "Weighted Average F1 macro: 45.36198557320555\n",
      "Voting Classifier with Weighted Average and 9-fold cv f1 macro avg: 0.5826\n",
      "Voting Classifier with Weighted Average and 9-fold cv f1 macro std: 0.0913\n"
     ]
    }
   ],
   "source": [
    "# get a list of base models\n",
    "def get_models():\n",
    "    models = list()\n",
    "    models.append(('svm', SVC(random_state=rand_seed)))\n",
    "    models.append(('lr', LogisticRegression(random_state=rand_seed, max_iter=1000)))\n",
    "    models.append(('dt', DecisionTreeClassifier(random_state=rand_seed, max_depth=8)))\n",
    "    models.append(('nb', GaussianNB()))\n",
    "    models.append(('knn', KNeighborsClassifier(n_neighbors=5)))\n",
    "    return models\n",
    "\n",
    "# evaluate each base model\n",
    "def evaluate_models(models, X_train, X_test, y_train, y_test):\n",
    "    # fit and evaluate models\n",
    "    scores = list()\n",
    "    for name, model in models:\n",
    "        # fit the classifiers\n",
    "        model.fit(X_train, y_train)\n",
    "        # eval model\n",
    "        ypred = model.predict(X_test)\n",
    "        f1_macro_score = f1_score(y_test, ypred, average=\"macro\")\n",
    "        # store performance\n",
    "        scores.append(f1_macro_score)\n",
    "    # report model performance\n",
    "    return scores\n",
    "\n",
    "# get the base models\n",
    "models = get_models()\n",
    "# fit and eval each model\n",
    "scores = evaluate_models(models, X_train, X_test, y_train, y_test)\n",
    "precision\n",
    "\n",
    "# Create ensemble\n",
    "voting_ensemble = VotingClassifier(estimators=models, voting='hard', weights=scores)\n",
    "# Fit the ensemble to the training dataset\n",
    "voting_ensemble_clf = voting_ensemble.fit(X_train, y_train)\n",
    "voting_ensemble_pred = voting_ensemble_clf.predict(X_test)\n",
    "# Evaluate predictions\n",
    "score = f1_score(y_test, voting_ensemble_pred, average=\"macro\")\n",
    "print(f\"Weighted Average F1 macro: {score*100}\")\n",
    "\n",
    "# Use cross validation for evaluation\n",
    "cv_scores = cross_val_score(voting_ensemble_clf, X_train, y_train, cv=9,\n",
    "    scoring=\"f1_macro\")\n",
    "avg_cv_scores = np.average(cv_scores)\n",
    "std_cv_scores = np.std(cv_scores)\n",
    "print(f\"Voting Classifier with Weighted Average and 9-fold cv f1 macro avg: {avg_cv_scores:.4f}\")\n",
    "print(f\"Voting Classifier with Weighted Average and 9-fold cv f1 macro std: {std_cv_scores:.4f}\")"
   ]
  },
  {
   "cell_type": "markdown",
   "metadata": {},
   "source": [
    "0.5697, k=5\n",
    "0.5931, k=6\n",
    "0.5619, k=7\n",
    "0.5604, k=8\n",
    "0.5788, k=9\n",
    "0.5752, k=10\n",
    "\n",
    "\n"
   ]
  }
 ],
 "metadata": {
  "kernelspec": {
   "display_name": "Python 3.10.4 ('pattern-classification')",
   "language": "python",
   "name": "python3"
  },
  "language_info": {
   "codemirror_mode": {
    "name": "ipython",
    "version": 3
   },
   "file_extension": ".py",
   "mimetype": "text/x-python",
   "name": "python",
   "nbconvert_exporter": "python",
   "pygments_lexer": "ipython3",
   "version": "3.10.4"
  },
  "orig_nbformat": 4,
  "vscode": {
   "interpreter": {
    "hash": "1895724e0ba1d87308f72752509c0d197b6cd14cd38e9b4860259e222d188bca"
   }
  }
 },
 "nbformat": 4,
 "nbformat_minor": 2
}
